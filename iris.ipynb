{
  "nbformat": 4,
  "nbformat_minor": 0,
  "metadata": {
    "colab": {
      "provenance": []
    },
    "kernelspec": {
      "name": "python3",
      "display_name": "Python 3"
    },
    "language_info": {
      "name": "python"
    }
  },
  "cells": [
    {
      "cell_type": "code",
      "execution_count": 5,
      "metadata": {
        "id": "SLGIfu7UmIlq"
      },
      "outputs": [],
      "source": [
        "import pandas as pd\n",
        "\n",
        "# Webpage URL\n",
        "url = \"https://archive.ics.uci.edu/ml/machine-learning-databases/iris/iris.data\"\n",
        "\n",
        "# Define the column names\n",
        "col_names = [\"sepal_length_in_cm\",\n",
        "            \"sepal_width_in_cm\",\n",
        "            \"petal_length_in_cm\",\n",
        "            \"petal_width_in_cm\",\n",
        "            \"class\"]\n",
        "\n",
        "# Read data from URL\n",
        "iris_data = pd.read_csv(url,names=col_names)\n",
        "\n",
        "iris_data.head()\n",
        "iris_data.to_csv(\"cleaned_iris_data.csv\")"
      ]
    }
  ]
}